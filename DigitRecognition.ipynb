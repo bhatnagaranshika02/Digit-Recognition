{
 "cells": [
  {
   "cell_type": "code",
   "execution_count": null,
   "metadata": {},
   "outputs": [],
   "source": []
  },
  {
   "cell_type": "code",
   "execution_count": null,
   "metadata": {},
   "outputs": [],
   "source": [
    "    from keras.models import load_model\n",
    "    from tkinter import *\n",
    "    import tkinter as tk\n",
    "    import win32gui\n",
    "    from PIL import ImageGrab, Image\n",
    "    import numpy as np\n",
    "    model = load_model('mnist.h5')\n",
    "    \n",
    "    def make_predict(s):\n",
    "        \n",
    "        s = s.resize((28,28))\n",
    "      \n",
    "        s = s.convert('L')\n",
    "        s = np.array(img)\n",
    "\n",
    "        s = s.reshape(1,28,28,1)\n",
    "        s = s/255.0\n",
    "\n",
    "        res = model.predict([img])[0]\n",
    "        return np.argmax(res), max(res)\n",
    "    \n",
    "    class Application(tk.Tk):\n",
    "        def __init__(self):\n",
    "            tk.Tk.__init__(self)\n",
    "            self.x = self.y = 0\n",
    "        \n",
    "            self.canvas = tk.Canvas(self, width=300, height=300, bg = \"white\", cursor=\"cross\")\n",
    "            self.label = tk.Label(self, text=\"Thinking..\", font=(\"Helvetica\", 48))\n",
    "            self.classify_btn = tk.Button(self, text = \"Recognise\", command =         self.classify_handwriting) \n",
    "            self.button_clear = tk.Button(self, text = \"Clear\", command = self.clear_all)\n",
    "       \n",
    "            self.canvas.grid(row=0, column=0, pady=2, sticky=W, )\n",
    "            self.label.grid(row=0, column=1,pady=2, padx=2)\n",
    "            self.classify_btn.grid(row=1, column=1, pady=2, padx=2)\n",
    "            self.button_clear.grid(row=1, column=0, pady=2)\n",
    "            \n",
    "            self.canvas.bind(\"<B1-Motion>\", self.draw_lines)\n",
    "        \n",
    "        def clear(self):\n",
    "            self.canvas.delete(\"all\")\n",
    "        \n",
    "        def detect(self):\n",
    "            HWND = self.canvas.winfo_id() \n",
    "            rect = win32gui.GetWindowRect(HWND) \n",
    "            im = ImageGrab.grab(rect)\n",
    "            digit, acc = predict_digit(im)\n",
    "            self.label.configure(text= str(digit)+', '+ str(int(acc*100))+'%')\n",
    "        \n",
    "        def draw_lines(self, event):\n",
    "            self.x = event.x\n",
    "            self.y = event.y\n",
    "            r=8\n",
    "            self.canvas.create_oval(self.x-r, self.y-r, self.x + r, self.y + r, fill='black')\n",
    "    app = App()\n",
    "    mainloop()"
   ]
  },
  {
   "cell_type": "code",
   "execution_count": null,
   "metadata": {},
   "outputs": [],
   "source": []
  }
 ],
 "metadata": {
  "kernelspec": {
   "display_name": "Python 3",
   "language": "python",
   "name": "python3"
  },
  "language_info": {
   "codemirror_mode": {
    "name": "ipython",
    "version": 3
   },
   "file_extension": ".py",
   "mimetype": "text/x-python",
   "name": "python",
   "nbconvert_exporter": "python",
   "pygments_lexer": "ipython3",
   "version": "3.7.4"
  }
 },
 "nbformat": 4,
 "nbformat_minor": 2
}
